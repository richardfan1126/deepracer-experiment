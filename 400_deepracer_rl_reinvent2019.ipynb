{
 "cells": [
  {
   "cell_type": "code",
   "execution_count": 1,
   "metadata": {
    "scrolled": true
   },
   "outputs": [],
   "source": [
    "import boto3\n",
    "import sagemaker\n",
    "import sys\n",
    "import os\n",
    "import re\n",
    "import numpy as np\n",
    "import subprocess\n",
    "sys.path.append(\"common\")\n",
    "from misc import get_execution_role, wait_for_s3_object\n",
    "from docker_utils import build_and_push_docker_image\n",
    "from sagemaker.rl import RLEstimator, RLToolkit, RLFramework\n",
    "from time import gmtime, strftime\n",
    "import time\n",
    "from IPython.display import Markdown\n",
    "from markdown_helper import *"
   ]
  },
  {
   "cell_type": "code",
   "execution_count": 2,
   "metadata": {},
   "outputs": [],
   "source": [
    "# Select the instance type\n",
    "# Be aware of the costs of these training instances. They will run as long as the training duration\n",
    "# We use ml.c4.2xlarge or ml.c5.2xlarge in the AWS DeepRacer console\n",
    "\n",
    "\n",
    "instance_type = \"ml.c4.2xlarge\"\n",
    "# instance_type = \"ml.p2.xlarge\"\n",
    "\n",
    "\n",
    "# Starting SageMaker session\n",
    "sage_session = sagemaker.session.Session()\n",
    "\n",
    "# Create unique job name.\n",
    "job_name_prefix = 'deepracer-notebook'\n",
    "\n",
    "# Duration of job in seconds (1 hours)\n",
    "job_duration_in_seconds = 3600 * 1\n",
    "\n",
    "# AWS Region\n",
    "aws_region = sage_session.boto_region_name\n",
    "if aws_region not in [\"us-west-2\", \"us-east-1\", \"eu-west-1\"]:\n",
    "    raise Exception(\"This notebook uses RoboMaker which is available only in US East (N. Virginia),\"\n",
    "                    \"US West (Oregon) and EU (Ireland). Please switch to one of these regions.\")"
   ]
  },
  {
   "cell_type": "code",
   "execution_count": 3,
   "metadata": {},
   "outputs": [],
   "source": [
    "# S3 bucket\n",
    "s3_bucket = sage_session.default_bucket()\n",
    "\n",
    "# SDK appends the job name and output folder\n",
    "s3_output_path = 's3://{}/'.format(s3_bucket)\n",
    "\n",
    "# Ensure that the S3 prefix contains the keyword 'sagemaker'\n",
    "s3_prefix = job_name_prefix + \"-sagemaker-\" + strftime(\"%y%m%d-%H%M%S\", gmtime())\n",
    "\n",
    "# Get the AWS account id of this account\n",
    "sts = boto3.client(\"sts\")\n",
    "account_id = sts.get_caller_identity()['Account']\n",
    "\n",
    "# print(\"Using s3 bucket {}\".format(s3_bucket))\n",
    "# print(\"Model checkpoints and other metadata will be stored at: \\ns3://{}/{}\".format(s3_bucket, s3_prefix))"
   ]
  },
  {
   "cell_type": "code",
   "execution_count": 4,
   "metadata": {},
   "outputs": [
    {
     "name": "stdout",
     "output_type": "stream",
     "text": [
      "Using Sagemaker IAM role arn: \n",
      "arn:aws:iam::191072206499:role/service-role/AmazonSageMaker-ExecutionRole-20200320T163119\n"
     ]
    }
   ],
   "source": [
    "try:\n",
    "    sagemaker_role = sagemaker.get_execution_role()\n",
    "except:\n",
    "    sagemaker_role = get_execution_role('sagemaker')\n",
    "\n",
    "print(\"Using Sagemaker IAM role arn: \\n{}\".format(sagemaker_role))"
   ]
  },
  {
   "cell_type": "code",
   "execution_count": 5,
   "metadata": {},
   "outputs": [
    {
     "name": "stdout",
     "output_type": "stream",
     "text": [
      "Using the DeepRacer VPC stacks\n",
      "Using VPC: vpc-0a015892e03bcd4f1\n",
      "Using security group: ['sg-04b73203eee4e4dae']\n",
      "Using subnets: ['subnet-0d3431d7c5ce22379', 'subnet-079730a74022dccba', 'subnet-004ef9ce8055c5ef4', 'subnet-0be63b464b786ba0a', 'subnet-0114f5ddffc299b42', 'subnet-03b2d579b1e808fb6']\n"
     ]
    }
   ],
   "source": [
    "ec2 = boto3.client('ec2')\n",
    "\n",
    "#\n",
    "# Check if the user has Deepracer-VPC and use that if its present. This will have all permission.\n",
    "# This VPC will be created when you have used the Deepracer console and created one model atleast\n",
    "# If this is not present. Use the default VPC connnection\n",
    "#\n",
    "deepracer_security_groups = [group[\"GroupId\"] for group in ec2.describe_security_groups()['SecurityGroups']\\\n",
    "                             if group['GroupName'].startswith(\"aws-deepracer\")]\n",
    "if(deepracer_security_groups):\n",
    "    print(\"Using the DeepRacer VPC stacks\")\n",
    "    deepracer_vpc = [vpc['VpcId'] for vpc in ec2.describe_vpcs()['Vpcs'] \\\n",
    "                     if \"Tags\" in vpc for val in vpc['Tags'] \\\n",
    "                     if val['Value'] == 'deepracer-vpc'][0]\n",
    "    deepracer_subnets = [subnet[\"SubnetId\"] for subnet in ec2.describe_subnets()[\"Subnets\"] \\\n",
    "                         if subnet[\"VpcId\"] == deepracer_vpc]\n",
    "else:\n",
    "    print(\"Using the default VPC stacks\")\n",
    "    deepracer_vpc = [vpc['VpcId'] for vpc in ec2.describe_vpcs()['Vpcs'] if vpc[\"IsDefault\"] == True][0]\n",
    "\n",
    "    deepracer_security_groups = [group[\"GroupId\"] for group in ec2.describe_security_groups()['SecurityGroups'] \\\n",
    "                                 if 'VpcId' in group and group[\"GroupName\"] == \"deepracer-experiment\" and group[\"VpcId\"] == deepracer_vpc]\n",
    "\n",
    "    deepracer_subnets = [subnet[\"SubnetId\"] for subnet in ec2.describe_subnets()[\"Subnets\"] \\\n",
    "                         if subnet[\"VpcId\"] == deepracer_vpc and subnet['DefaultForAz']==True]\n",
    "\n",
    "print(\"Using VPC:\", deepracer_vpc)\n",
    "print(\"Using security group:\", deepracer_security_groups)\n",
    "print(\"Using subnets:\", deepracer_subnets)"
   ]
  },
  {
   "cell_type": "code",
   "execution_count": 6,
   "metadata": {},
   "outputs": [],
   "source": [
    "metric_definitions = [\n",
    "    # Training> Name=main_level/agent, Worker=0, Episode=19, Total reward=-102.88, Steps=19019, Training iteration=1\n",
    "    {'Name': 'reward-training',\n",
    "     'Regex': '^Training>.*Total reward=(.*?),'},\n",
    "    \n",
    "    # Policy training> Surrogate loss=-0.32664725184440613, KL divergence=7.255815035023261e-06, Entropy=2.83156156539917, training epoch=0, learning_rate=0.00025\n",
    "    {'Name': 'ppo-surrogate-loss',\n",
    "     'Regex': '^Policy training>.*Surrogate loss=(.*?),'},\n",
    "     {'Name': 'ppo-entropy',\n",
    "     'Regex': '^Policy training>.*Entropy=(.*?),'},\n",
    "   \n",
    "    # Testing> Name=main_level/agent, Worker=0, Episode=19, Total reward=1359.12, Steps=20015, Training iteration=2\n",
    "    {'Name': 'reward-testing',\n",
    "     'Regex': '^Testing>.*Total reward=(.*?),'},\n",
    "]"
   ]
  },
  {
   "cell_type": "code",
   "execution_count": 7,
   "metadata": {},
   "outputs": [],
   "source": [
    "from sagemaker.debugger import Rule, DebuggerHookConfig, TensorBoardOutputConfig, CollectionConfig, rule_configs\n",
    "\n",
    "rules = [\n",
    "#     Rule.sagemaker(rule_configs.dead_relu()),\n",
    "#     Rule.sagemaker(rule_configs.exploding_tensor()),\n",
    "#     Rule.sagemaker(rule_configs.poor_weight_initialization()),\n",
    "#     Rule.sagemaker(rule_configs.saturated_activation()),\n",
    "#     Rule.sagemaker(rule_configs.vanishing_gradient()),\n",
    "#     Rule.sagemaker(rule_configs.weight_update_ratio()),\n",
    "#     Rule.sagemaker(rule_configs.all_zero()),\n",
    "#     Rule.sagemaker(rule_configs.class_imbalance()),\n",
    "#     Rule.sagemaker(rule_configs.confusion()),\n",
    "    Rule.sagemaker(\n",
    "        base_config=rule_configs.loss_not_decreasing(),\n",
    "        collections_to_save=[ \n",
    "            CollectionConfig(\n",
    "                name=\"losses\", \n",
    "                parameters={\n",
    "                      \"train.save_interval\": \"50\"}    \n",
    "            )\n",
    "        ]\n",
    "    )\n",
    "#     Rule.sagemaker(rule_configs.loss_not_decreasing()),\n",
    "#     Rule.sagemaker(rule_configs.overfit()),\n",
    "#     Rule.sagemaker(rule_configs.overtraining()),\n",
    "#     Rule.sagemaker(rule_configs.similar_across_runs()),\n",
    "#     Rule.sagemaker(rule_configs.tensor_variance()),\n",
    "#     Rule.sagemaker(rule_configs.unchanged_tensor()),\n",
    "]\n",
    "\n",
    "debugger_hook_config = DebuggerHookConfig(\n",
    "    hook_parameters={\n",
    "        \"save_all\": \"True\",\n",
    "        \"gloabal.save_interval\": '1'\n",
    "    },\n",
    "    collection_configs=[\n",
    "        CollectionConfig(\n",
    "            name=\"losses\",\n",
    "            parameters={\n",
    "                \"include_regex\": \".*\"\n",
    "            }\n",
    "        )\n",
    "    ]\n",
    ")"
   ]
  },
  {
   "cell_type": "code",
   "execution_count": 8,
   "metadata": {},
   "outputs": [
    {
     "name": "stdout",
     "output_type": "stream",
     "text": [
      "Training job: deepracer-notebook-2020-07-10-12-39-21-565\n"
     ]
    }
   ],
   "source": [
    "custom_image_name = \"191072206499.dkr.ecr.us-east-1.amazonaws.com/deepracer-sagemaker:cpu-smdebug\"\n",
    "# custom_image_name = \"220744436658.dkr.ecr.us-east-1.amazonaws.com/deepracersm:latest\"\n",
    "\n",
    "hyperparameters = {\n",
    "    \"s3_bucket\": s3_bucket,\n",
    "    \"s3_prefix\": s3_prefix,\n",
    "    \"aws_region\": aws_region,\n",
    "    \"model_metadata_s3_key\": \"s3://{}/custom_files/model_metadata.json\".format(s3_bucket),\n",
    "    \"RLCOACH_PRESET\": \"deepracer\",\n",
    "    \"batch_size\": 64,\n",
    "    \"beta_entropy\": 0.01,\n",
    "    \"discount_factor\": 0.99,\n",
    "    \"e_greedy_value\": 0.05,\n",
    "    \"epsilon_steps\": 10000,\n",
    "    \"exploration_type\": \"categorical\",\n",
    "    \"loss_type\": \"huber\",\n",
    "    \"lr\": 0.0003,\n",
    "    \"num_episodes_between_training\": 20,\n",
    "    \"num_epochs\": 10,\n",
    "    \"stack_size\": 1,\n",
    "    \"term_cond_avg_score\": 100000.0,\n",
    "    \"term_cond_max_episodes\": 10000\n",
    "}\n",
    "\n",
    "estimator = RLEstimator(entry_point=\"training_worker.py\",\n",
    "                        source_dir='src',\n",
    "                        \n",
    "                        \n",
    "                        image_name=custom_image_name,\n",
    "                        \n",
    "#                         toolkit=RLToolkit.COACH,\n",
    "#                         toolkit_version='0.11.1',\n",
    "#                         framework=RLFramework.TENSORFLOW,\n",
    "                        \n",
    "                        \n",
    "                        dependencies=[\"common/sagemaker_rl\"],\n",
    "                        role=sagemaker_role,\n",
    "                        train_instance_type=instance_type,\n",
    "                        train_instance_count=1,\n",
    "                        output_path=s3_output_path,\n",
    "                        base_job_name=job_name_prefix,\n",
    "                        metric_definitions=metric_definitions,\n",
    "                        train_max_run=job_duration_in_seconds,\n",
    "                        hyperparameters=hyperparameters,\n",
    "                        subnets=deepracer_subnets,\n",
    "                        security_group_ids=deepracer_security_groups,\n",
    "                        \n",
    "                        rules=rules,\n",
    "#                         debugger_hook_config=debugger_hook_config\n",
    "                    )\n",
    "\n",
    "estimator.fit(wait=False)\n",
    "job_name = estimator.latest_training_job.job_name\n",
    "print(\"Training job: %s\" % job_name)"
   ]
  },
  {
   "cell_type": "code",
   "execution_count": 9,
   "metadata": {},
   "outputs": [],
   "source": [
    "robomaker = boto3.client(\"robomaker\")"
   ]
  },
  {
   "cell_type": "code",
   "execution_count": 10,
   "metadata": {},
   "outputs": [],
   "source": [
    "available_tracks = [\"reinvent_base\", # 0\n",
    "                    \"AWS_track\", # 1\n",
    "                    \"Tokyo_Training_track\", #2\n",
    "                    \"Virtual_May19_Train_track\", #3 (london)\n",
    "                    \"reInvent2018_36inch\", #4\n",
    "                    \"reInvent2018_mirror\", #5\n",
    "                    \"reInvent2019_track\"] #6\n",
    "\n",
    "training_tracks_indices = [6]\n",
    "\n",
    "num_simulation_workers = len(training_tracks_indices)\n"
   ]
  },
  {
   "cell_type": "code",
   "execution_count": 11,
   "metadata": {},
   "outputs": [],
   "source": [
    "%%bash -s \"$s3_bucket\" \"$s3_prefix\" \"$account_id\"\n",
    "sed \"s/<bucket>/${1}/; s/<prefix>/${2}/; s/<account_id>/${3}/\" ./training_params.yaml > ./new_training_params.yaml"
   ]
  },
  {
   "cell_type": "code",
   "execution_count": 12,
   "metadata": {},
   "outputs": [],
   "source": [
    "s3_client = boto3.client('s3')\n",
    "\n",
    "s3_client.upload_file(\n",
    "    \"./new_training_params.yaml\",\n",
    "    s3_bucket,\n",
    "    \"{prefix}/training_params.yaml\".format(prefix = s3_prefix)\n",
    ")"
   ]
  },
  {
   "cell_type": "code",
   "execution_count": 13,
   "metadata": {},
   "outputs": [
    {
     "name": "stdout",
     "output_type": "stream",
     "text": [
      "{'ResponseMetadata': {'RequestId': 'bd26bbf2-379a-4338-9db4-d2567f862df4', 'HTTPStatusCode': 200, 'HTTPHeaders': {'date': 'Fri, 10 Jul 2020 12:39:24 GMT', 'content-type': 'application/json', 'content-length': '3808', 'connection': 'keep-alive', 'x-amzn-requestid': 'bd26bbf2-379a-4338-9db4-d2567f862df4', 'x-amz-apigw-id': 'PdQrUGlfIAMFedQ=', 'x-amzn-trace-id': 'Root=1-5f08617b-ae1575067a8dacddd1d9a2cf'}, 'RetryAttempts': 0}, 'arn': 'arn:aws:robomaker:us-east-1:191072206499:simulation-job/sim-8w0d9b954b9p', 'status': 'Pending', 'lastUpdatedAt': datetime.datetime(2020, 7, 10, 12, 39, 24, tzinfo=tzlocal()), 'failureBehavior': 'Fail', 'clientRequestToken': '2020-07-10-12-39-23', 'loggingConfig': {'recordAllRosTopics': False}, 'maxJobDurationInSeconds': 3600, 'simulationTimeMillis': 0, 'iamRole': 'arn:aws:iam::191072206499:role/service-role/AmazonSageMaker-ExecutionRole-20200320T163119', 'simulationApplications': [{'application': 'arn:aws:robomaker:us-east-1:191072206499:simulation-application/deepracer-simapp-77373afe-274f-4ebc-b5e2-9d67ccc51241/1576204587949', 'applicationVersion': '$LATEST', 'launchConfig': {'packageName': 'deepracer_simulation_environment', 'launchFile': 'distributed_training.launch', 'environmentVariables': {'ALTERNATE_DRIVING_DIRECTION': 'false', 'APP_REGION': 'us-east-1', 'METRICS_S3_BUCKET': 'sagemaker-us-east-1-191072206499', 'METRICS_S3_OBJECT_KEY': 'deepracer-notebook-sagemaker-200710-123920/training_metrics.json', 'METRIC_NAME': 'TrainingRewardScore', 'METRIC_NAMESPACE': 'AWSDeepRacer', 'MIN_EVAL_TRIALS': '5', 'MODEL_METADATA_FILE_S3_KEY': 'custom_files/model_metadata.json', 'REWARD_FILE_S3_KEY': 'custom_files/reward.py', 'ROBOMAKER_SIMULATION_JOB_ACCOUNT_ID': '191072206499', 'S3_YAML_NAME': 'training_params.yaml', 'SAGEMAKER_SHARED_S3_BUCKET': 'sagemaker-us-east-1-191072206499', 'SAGEMAKER_SHARED_S3_PREFIX': 'deepracer-notebook-sagemaker-200710-123920', 'TARGET_REWARD_SCORE': 'None', 'TRAINING_JOB_ARN': 'deepracer-notebook-2020-07-10-12-39-21-565', 'WORLD_NAME': 'reinvent_base'}, 'streamUI': False}}], 'tags': {}, 'vpcConfig': {'subnets': ['subnet-0d3431d7c5ce22379', 'subnet-079730a74022dccba', 'subnet-004ef9ce8055c5ef4', 'subnet-0be63b464b786ba0a', 'subnet-0114f5ddffc299b42', 'subnet-03b2d579b1e808fb6'], 'securityGroups': ['sg-04b73203eee4e4dae'], 'vpcId': 'vpc-0a015892e03bcd4f1', 'assignPublicIp': True}}\n",
      "Created the following jobs:\n",
      "Job ARN arn:aws:robomaker:us-east-1:191072206499:simulation-job/sim-8w0d9b954b9p\n"
     ]
    }
   ],
   "source": [
    "simulation_app_arn = \"arn:aws:robomaker:us-east-1:191072206499:simulation-application/deepracer-simapp-77373afe-274f-4ebc-b5e2-9d67ccc51241/1576204587949\"\n",
    "\n",
    "envriron_vars = {\n",
    "    \"WORLD_NAME\" : \"reinvent_base\",\n",
    "    \"ALTERNATE_DRIVING_DIRECTION\" : \"false\",\n",
    "    \"SAGEMAKER_SHARED_S3_BUCKET\" : s3_bucket,\n",
    "    \"SAGEMAKER_SHARED_S3_PREFIX\" : s3_prefix,\n",
    "    \"TRAINING_JOB_ARN\": job_name,\n",
    "    \"APP_REGION\" : \"us-east-1\",\n",
    "    \"METRIC_NAME\": \"TrainingRewardScore\",\n",
    "    \"METRIC_NAMESPACE\": \"AWSDeepRacer\",\n",
    "    \"REWARD_FILE_S3_KEY\" : \"custom_files/reward.py\",\n",
    "    \"MODEL_METADATA_FILE_S3_KEY\" : \"custom_files/model_metadata.json\",\n",
    "    \"METRICS_S3_BUCKET\": s3_bucket,\n",
    "    \"METRICS_S3_OBJECT_KEY\": s3_prefix + \"/training_metrics.json\",\n",
    "    \"TARGET_REWARD_SCORE\": \"None\",\n",
    "    \"ROBOMAKER_SIMULATION_JOB_ACCOUNT_ID\": account_id,\n",
    "    \"S3_YAML_NAME\" : \"training_params.yaml\",\n",
    "    \"MIN_EVAL_TRIALS\" : \"5\"\n",
    "}\n",
    "\n",
    "simulation_application = {\"application\":simulation_app_arn,\n",
    "                          \"launchConfig\": {\"packageName\": \"deepracer_simulation_environment\",\n",
    "                                           \"launchFile\": \"distributed_training.launch\",\n",
    "                                           \"environmentVariables\": envriron_vars}\n",
    "                         }\n",
    "\n",
    "vpcConfig = {\"subnets\": deepracer_subnets,\n",
    "             \"securityGroups\": deepracer_security_groups,\n",
    "             \"assignPublicIp\": True}\n",
    "\n",
    "responses = []\n",
    "for job_no in range(num_simulation_workers):\n",
    "#     simulation_application[\"launchConfig\"][\"environmentVariables\"][\"WORLD_NAME\"] = available_tracks[training_tracks_indices[job_no]]\n",
    "    client_request_token = strftime(\"%Y-%m-%d-%H-%M-%S\", gmtime())\n",
    "    response =  robomaker.create_simulation_job(iamRole=sagemaker_role,\n",
    "                                            clientRequestToken=client_request_token,\n",
    "                                            maxJobDurationInSeconds=job_duration_in_seconds,\n",
    "                                            failureBehavior=\"Fail\",\n",
    "                                            simulationApplications=[simulation_application],\n",
    "                                            vpcConfig=vpcConfig\n",
    "                                            )\n",
    "    print(response)\n",
    "    responses.append(response)\n",
    "\n",
    "\n",
    "print(\"Created the following jobs:\")\n",
    "job_arns = [response[\"arn\"] for response in responses]\n",
    "for response in responses:\n",
    "    print(\"Job ARN\", response[\"arn\"]) \n",
    "    \n",
    "    "
   ]
  },
  {
   "cell_type": "code",
   "execution_count": 14,
   "metadata": {},
   "outputs": [
    {
     "name": "stdout",
     "output_type": "stream",
     "text": [
      "[2020-07-10 12:43:49.653 f2b876e473a2:146 INFO s3_trial.py:42] Loading trial debug-output at path s3://sagemaker-us-east-1-191072206499/deepracer-notebook-2020-07-10-12-39-21-565/debug-output\n"
     ]
    }
   ],
   "source": [
    "from smdebug.trials import create_trial\n",
    "\n",
    "s3_output_path = estimator.latest_job_debugger_artifacts_path()\n",
    "trial = create_trial(s3_output_path)"
   ]
  },
  {
   "cell_type": "code",
   "execution_count": 16,
   "metadata": {},
   "outputs": [
    {
     "data": {
      "text/plain": [
       "['main_level/agent/main/online/network_0/v_values_head_0/Mean:0',\n",
       " 'main_level/agent/main/online/network_1/ppo_head_0/Neg:0',\n",
       " 'main_level/agent/main/online/network_1/ppo_head_0/Neg_1:0',\n",
       " 'main_level/agent/main/target/network_1/ppo_head_0/Neg_1:0']"
      ]
     },
     "execution_count": 16,
     "metadata": {},
     "output_type": "execute_result"
    }
   ],
   "source": [
    "trial.tensor_names()"
   ]
  },
  {
   "cell_type": "code",
   "execution_count": 17,
   "metadata": {},
   "outputs": [
    {
     "data": {
      "text/plain": [
       "{100: array([-0.01945355], dtype=float32),\n",
       " 200: array([-0.01945326], dtype=float32)}"
      ]
     },
     "execution_count": 17,
     "metadata": {},
     "output_type": "execute_result"
    }
   ],
   "source": [
    "trial.tensor('main_level/agent/main/target/network_1/ppo_head_0/Neg_1:0').values()"
   ]
  },
  {
   "cell_type": "code",
   "execution_count": 16,
   "metadata": {},
   "outputs": [
    {
     "name": "stdout",
     "output_type": "stream",
     "text": [
      "Collecting matplotlib\n",
      "  Using cached matplotlib-3.2.2-cp36-cp36m-manylinux1_x86_64.whl (12.4 MB)\n",
      "Collecting seaborn\n",
      "  Using cached seaborn-0.10.1-py3-none-any.whl (215 kB)\n",
      "Collecting kiwisolver>=1.0.1\n",
      "  Using cached kiwisolver-1.2.0-cp36-cp36m-manylinux1_x86_64.whl (88 kB)\n",
      "Requirement already satisfied: python-dateutil>=2.1 in /usr/local/lib/python3.6/dist-packages (from matplotlib) (2.8.1)\n",
      "Requirement already satisfied: pyparsing!=2.0.4,!=2.1.2,!=2.1.6,>=2.0.1 in /usr/local/lib/python3.6/dist-packages (from matplotlib) (2.4.6)\n",
      "Collecting cycler>=0.10\n",
      "  Using cached cycler-0.10.0-py2.py3-none-any.whl (6.5 kB)\n",
      "Requirement already satisfied: numpy>=1.11 in /usr/local/lib/python3.6/dist-packages (from matplotlib) (1.18.1)\n",
      "Requirement already satisfied: scipy>=1.0.1 in /usr/local/lib/python3.6/dist-packages (from seaborn) (1.4.1)\n",
      "Requirement already satisfied: pandas>=0.22.0 in /usr/local/lib/python3.6/dist-packages (from seaborn) (1.0.1)\n",
      "Requirement already satisfied: six>=1.5 in /usr/local/lib/python3.6/dist-packages (from python-dateutil>=2.1->matplotlib) (1.14.0)\n",
      "Requirement already satisfied: pytz>=2017.2 in /usr/local/lib/python3.6/dist-packages (from pandas>=0.22.0->seaborn) (2019.3)\n",
      "Installing collected packages: kiwisolver, cycler, matplotlib, seaborn\n",
      "Successfully installed cycler-0.10.0 kiwisolver-1.2.0 matplotlib-3.2.2 seaborn-0.10.1\n",
      "\u001b[33mWARNING: You are using pip version 20.0.2; however, version 20.1.1 is available.\n",
      "You should consider upgrading via the '/usr/bin/python3 -m pip install --upgrade pip' command.\u001b[0m\n"
     ]
    }
   ],
   "source": [
    "!pip install matplotlib seaborn"
   ]
  },
  {
   "cell_type": "code",
   "execution_count": 18,
   "metadata": {},
   "outputs": [],
   "source": [
    "import matplotlib.pyplot as plt\n",
    "import seaborn as sns\n",
    "import re\n",
    "\n",
    "def get_data(trial, tname):\n",
    "    \"\"\"\n",
    "    For the given tensor name, walks though all the iterations\n",
    "    for which you have data and fetches the values.\n",
    "    Returns the set of steps and the values.\n",
    "    \"\"\"\n",
    "    tensor = trial.tensor(tname)\n",
    "    steps = tensor.steps()\n",
    "    vals = [tensor.value(s) for s in steps]\n",
    "    return steps, vals\n",
    "\n",
    "def plot_collection(trial, collection_name, regex='.*', figsize=(8, 6)):\n",
    "    \"\"\"\n",
    "    Takes a `trial` and a collection name, and \n",
    "    plots all tensors that match the given regex.\n",
    "    \"\"\"\n",
    "    fig, ax = plt.subplots(figsize=figsize)\n",
    "    sns.despine()\n",
    "\n",
    "    tensors = trial.collection(collection_name).tensor_names\n",
    "\n",
    "    for tensor_name in sorted(tensors):\n",
    "        if re.match(regex, tensor_name) and \"ppo_head\" in tensor_name:\n",
    "            try:\n",
    "                steps, data = get_data(trial, tensor_name)\n",
    "                ax.plot(steps, data, label=tensor_name)\n",
    "            except:\n",
    "                pass\n",
    "\n",
    "    ax.legend(loc='center left', bbox_to_anchor=(1, 0.5))\n",
    "    ax.set_xlabel('Iteration')"
   ]
  },
  {
   "cell_type": "code",
   "execution_count": 1,
   "metadata": {},
   "outputs": [
    {
     "ename": "NameError",
     "evalue": "name 'plot_collection' is not defined",
     "output_type": "error",
     "traceback": [
      "\u001b[0;31m---------------------------------------------------------------------------\u001b[0m",
      "\u001b[0;31mNameError\u001b[0m                                 Traceback (most recent call last)",
      "\u001b[0;32m<ipython-input-1-16e0283ed6ac>\u001b[0m in \u001b[0;36m<module>\u001b[0;34m\u001b[0m\n\u001b[0;32m----> 1\u001b[0;31m \u001b[0mplot_collection\u001b[0m\u001b[0;34m(\u001b[0m\u001b[0mtrial\u001b[0m\u001b[0;34m,\u001b[0m \u001b[0;34m\"losses\"\u001b[0m\u001b[0;34m)\u001b[0m\u001b[0;34m\u001b[0m\u001b[0;34m\u001b[0m\u001b[0m\n\u001b[0m",
      "\u001b[0;31mNameError\u001b[0m: name 'plot_collection' is not defined"
     ]
    }
   ],
   "source": [
    " plot_collection(trial, \"losses\")"
   ]
  },
  {
   "cell_type": "code",
   "execution_count": 14,
   "metadata": {},
   "outputs": [
    {
     "data": {
      "text/markdown": [
       "> Click on the following links for visualization of simulation jobs on RoboMaker Console\n",
       "- [Simulation 1](https://us-east-1.console.aws.amazon.com/robomaker/home?region=us-east-1#simulationJobs/sim-rvqjp5r2hh8s)  \n",
       "\n",
       "You can click on Gazebo after you open the above link to start the simulator."
      ],
      "text/plain": [
       "<IPython.core.display.Markdown object>"
      ]
     },
     "metadata": {},
     "output_type": "display_data"
    }
   ],
   "source": [
    "display(Markdown(generate_robomaker_links(job_arns, aws_region)))"
   ]
  },
  {
   "cell_type": "code",
   "execution_count": 15,
   "metadata": {},
   "outputs": [
    {
     "data": {
      "text/plain": [
       "[{'RuleConfigurationName': 'LossNotDecreasing',\n",
       "  'RuleEvaluationStatus': 'InProgress',\n",
       "  'LastModifiedTime': datetime.datetime(2020, 7, 6, 7, 34, 24, 314000, tzinfo=tzlocal())}]"
      ]
     },
     "execution_count": 15,
     "metadata": {},
     "output_type": "execute_result"
    }
   ],
   "source": [
    "estimator.latest_training_job.rule_job_summary()"
   ]
  },
  {
   "cell_type": "code",
   "execution_count": 16,
   "metadata": {},
   "outputs": [
    {
     "data": {
      "text/plain": [
       "{}"
      ]
     },
     "execution_count": 16,
     "metadata": {},
     "output_type": "execute_result"
    }
   ],
   "source": [
    "# This utility gives the link to monitor the CW event\n",
    "def _get_rule_job_name(training_job_name, rule_configuration_name, rule_job_arn):\n",
    "        \"\"\"Helper function to get the rule job name\"\"\"\n",
    "        return \"{}-{}-{}\".format(\n",
    "            training_job_name[:26], rule_configuration_name[:26], rule_job_arn[-8:]\n",
    "        )\n",
    "    \n",
    "def _get_cw_url_for_rule_job(rule_job_name, region):\n",
    "    return \"https://{}.console.aws.amazon.com/cloudwatch/home?region={}#logStream:group=/aws/sagemaker/ProcessingJobs;prefix={};streamFilter=typeLogStreamPrefix\".format(region, region, rule_job_name)\n",
    "\n",
    "\n",
    "def get_rule_jobs_cw_urls(estimator):\n",
    "    region = boto3.Session().region_name\n",
    "    training_job = estimator.latest_training_job\n",
    "    training_job_name = training_job.describe()[\"TrainingJobName\"]\n",
    "    rule_eval_statuses = training_job.describe()[\"DebugRuleEvaluationStatuses\"]\n",
    "    \n",
    "    result={}\n",
    "    for status in rule_eval_statuses:\n",
    "        if status.get(\"RuleEvaluationJobArn\", None) is not None:\n",
    "            rule_job_name = _get_rule_job_name(training_job_name, status[\"RuleConfigurationName\"], status[\"RuleEvaluationJobArn\"])\n",
    "            result[status[\"RuleConfigurationName\"]] = _get_cw_url_for_rule_job(rule_job_name, region)\n",
    "    return result\n",
    "\n",
    "get_rule_jobs_cw_urls(estimator)"
   ]
  },
  {
   "cell_type": "markdown",
   "metadata": {},
   "source": [
    "### Clean up RoboMaker and SageMaker training job\n",
    "\n",
    "Execute the cells below if you want to kill RoboMaker and SageMaker job."
   ]
  },
  {
   "cell_type": "code",
   "execution_count": null,
   "metadata": {},
   "outputs": [],
   "source": [
    "# # Cancelling robomaker job\n",
    "# for job_arn in job_arns:\n",
    "#     robomaker.cancel_simulation_job(job=job_arn)\n",
    "\n",
    "# # Stopping sagemaker training job\n",
    "# sage_session.sagemaker_client.stop_training_job(TrainingJobName=estimator._current_job_name)"
   ]
  },
  {
   "cell_type": "markdown",
   "metadata": {},
   "source": [
    "### Clean Up Simulation Application Resource"
   ]
  },
  {
   "cell_type": "code",
   "execution_count": null,
   "metadata": {},
   "outputs": [],
   "source": [
    "# robomaker.delete_simulation_application(application=simulation_app_arn)"
   ]
  },
  {
   "cell_type": "markdown",
   "metadata": {},
   "source": [
    "### Clean your S3 bucket (Uncomment the awscli commands if you want to do it)"
   ]
  },
  {
   "cell_type": "code",
   "execution_count": null,
   "metadata": {},
   "outputs": [],
   "source": [
    "## Uncomment if you only want to clean the s3 bucket\n",
    "# sagemaker_s3_folder = \"s3://{}/{}\".format(s3_bucket, s3_prefix)\n",
    "# !aws s3 rm --recursive {sagemaker_s3_folder}\n",
    "\n",
    "# robomaker_s3_folder = \"s3://{}/{}\".format(s3_bucket, job_name)\n",
    "# !aws s3 rm --recursive {robomaker_s3_folder}\n",
    "\n",
    "# robomaker_sim_app = \"s3://{}/{}\".format(s3_bucket, 'robomaker')\n",
    "# !aws s3 rm --recursive {robomaker_sim_app}\n",
    "\n",
    "# model_output = \"s3://{}/{}\".format(s3_bucket, s3_bucket)\n",
    "# !aws s3 rm --recursive {model_output}"
   ]
  },
  {
   "cell_type": "markdown",
   "metadata": {},
   "source": [
    "### Clean the docker images\n",
    "Remove this only when you want to completely remove the docker or clean up the space of the sagemaker instance"
   ]
  },
  {
   "cell_type": "code",
   "execution_count": null,
   "metadata": {},
   "outputs": [],
   "source": [
    "# !docker rmi -f $(docker images -q)"
   ]
  }
 ],
 "metadata": {
  "anaconda-cloud": {},
  "kernelspec": {
   "display_name": "Python 3 (TensorFlow 2 CPU Optimized)",
   "language": "python",
   "name": "python3__SAGEMAKER_INTERNAL__arn:aws:sagemaker:us-east-1:081325390199:image/tensorflow-2.1-cpu-py36"
  },
  "language_info": {
   "codemirror_mode": {
    "name": "ipython",
    "version": 3
   },
   "file_extension": ".py",
   "mimetype": "text/x-python",
   "name": "python",
   "nbconvert_exporter": "python",
   "pygments_lexer": "ipython3",
   "version": "3.6.9"
  }
 },
 "nbformat": 4,
 "nbformat_minor": 4
}
